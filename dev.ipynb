{
 "cells": [
  {
   "cell_type": "code",
   "execution_count": null,
   "metadata": {},
   "outputs": [],
   "source": [
    "import asyncio\n",
    "\n",
    "import pandas as pd\n",
    "\n",
    "from uk_fuel_prices_api import UKFuelPricesApi\n",
    "api = UKFuelPricesApi()\n",
    "\n",
    "await api.get_prices()\n"
   ]
  },
  {
   "cell_type": "code",
   "execution_count": null,
   "metadata": {},
   "outputs": [],
   "source": [
    "display(api.stations.head(1))"
   ]
  },
  {
   "cell_type": "code",
   "execution_count": 20,
   "metadata": {},
   "outputs": [],
   "source": [
    "geojson = {\"type\": \"FeatureCollection\", \"name\": \"UK Fuel Stations\", \"features\": []}\n",
    "\n",
    "for _, row in api.stations.head(10).iterrows():\n",
    "    feature = {\"type\": \"Feature\",\n",
    "               \"geometry\": {\"type\": \"Point\", \"coordinates\": [row['longitude'], row['latitude']]},\n",
    "               \"properties\": {\n",
    "                   \"site_id\": row['site_id'],\n",
    "                   \"brand\": row['brand'],\n",
    "                   \"address\": row['address'],\n",
    "                   \"postcode\": row['postcode'],\n",
    "                   \"last_updated\": row['last_updated'],\n",
    "                   \"prices\": []\n",
    "                }}\n",
    "\n",
    "    if (row['B7'] > 0):\n",
    "        feature['properties']['prices'].append({'B7': row['B7']})\n",
    "    \n",
    "    if (row['E5'] > 0):\n",
    "        feature['properties']['prices'].append({'E5': row['E5']})\n",
    "    \n",
    "    if (row['E10'] > 0):\n",
    "        feature['properties']['prices'].append({'E10': row['E10']})\n",
    "    \n",
    "    if ( row['SDV'] > 0 ):\n",
    "        feature['properties']['prices'].append({'SDV': row['SDV']})\n",
    "\n",
    "    \n",
    "    geojson['features'].append(feature)\n",
    "           \n",
    "#display(geojson)"
   ]
  },
  {
   "cell_type": "code",
   "execution_count": 21,
   "metadata": {},
   "outputs": [],
   "source": [
    "import json\n",
    "\n",
    "f = open(\"stations.json\", \"w\")\n",
    "\n",
    "json.dump(geojson, fp=f)\n",
    "\n",
    "f.close()"
   ]
  },
  {
   "cell_type": "code",
   "execution_count": null,
   "metadata": {},
   "outputs": [],
   "source": []
  }
 ],
 "metadata": {
  "kernelspec": {
   "display_name": ".venv",
   "language": "python",
   "name": "python3"
  },
  "language_info": {
   "codemirror_mode": {
    "name": "ipython",
    "version": 3
   },
   "file_extension": ".py",
   "mimetype": "text/x-python",
   "name": "python",
   "nbconvert_exporter": "python",
   "pygments_lexer": "ipython3",
   "version": "3.10.12"
  }
 },
 "nbformat": 4,
 "nbformat_minor": 2
}
